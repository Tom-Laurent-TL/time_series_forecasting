{
 "cells": [
  {
   "cell_type": "code",
   "execution_count": null,
   "id": "4314e46a",
   "metadata": {},
   "outputs": [],
   "source": [
    "from model import Kronos, KronosTokenizer, KronosPredictor\n",
    "\n",
    "# Load from Hugging Face Hub\n",
    "tokenizer = KronosTokenizer.from_pretrained(\"NeoQuasar/Kronos-Tokenizer-base\")\n",
    "model = Kronos.from_pretrained(\"NeoQuasar/Kronos-small\")\n"
   ]
  },
  {
   "cell_type": "code",
   "execution_count": null,
   "id": "4b3d011b",
   "metadata": {},
   "outputs": [],
   "source": [
    "# Initialize the predictor\n",
    "predictor = KronosPredictor(model, tokenizer, device=\"cuda:0\", max_context=512)"
   ]
  },
  {
   "cell_type": "code",
   "execution_count": null,
   "id": "2d773e80",
   "metadata": {},
   "outputs": [],
   "source": [
    "import pandas as pd\n",
    "\n",
    "# Load your data (example data can be found in the GitHub repo)\n",
    "df = pd.read_csv(\"./data/XSHG_5min_600977.csv\")\n",
    "df['timestamps'] = pd.to_datetime(df['timestamps'])\n",
    "\n",
    "# Define context window and prediction length\n",
    "lookback = 400\n",
    "pred_len = 120\n",
    "\n",
    "# Prepare inputs for the predictor\n",
    "x_df = df.loc[:lookback-1, ['open', 'high', 'low', 'close', 'volume', 'amount']]\n",
    "x_timestamp = df.loc[:lookback-1, 'timestamps']\n",
    "y_timestamp = df.loc[lookback:lookback+pred_len-1, 'timestamps']\n"
   ]
  },
  {
   "cell_type": "code",
   "execution_count": null,
   "id": "3b1e72c9",
   "metadata": {},
   "outputs": [],
   "source": [
    "# Generate predictions\n",
    "pred_df = predictor.predict(\n",
    "    df=x_df,\n",
    "    x_timestamp=x_timestamp,\n",
    "    y_timestamp=y_timestamp,\n",
    "    pred_len=pred_len,\n",
    "    T=1.0,          # Temperature for sampling\n",
    "    top_p=0.9,      # Nucleus sampling probability\n",
    "    sample_count=1  # Number of forecast paths to generate and average\n",
    ")\n",
    "\n",
    "print(\"Forecasted Data Head:\")\n",
    "print(pred_df.head())\n"
   ]
  }
 ],
 "metadata": {
  "kernelspec": {
   "display_name": "tsf-py312",
   "language": "python",
   "name": "python3"
  },
  "language_info": {
   "name": "python",
   "version": "3.12.11"
  }
 },
 "nbformat": 4,
 "nbformat_minor": 5
}
