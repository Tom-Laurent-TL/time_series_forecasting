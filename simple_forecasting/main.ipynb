{
 "cells": [
  {
   "cell_type": "markdown",
   "id": "0049c2f2",
   "metadata": {},
   "source": [
    "# Time Series Forecasting with Transformer in PyTorch\n",
    "This notebook demonstrates how to use a simple Transformer architecture for time series forecasting using PyTorch."
   ]
  },
  {
   "cell_type": "code",
   "execution_count": null,
   "id": "a50adba8",
   "metadata": {},
   "outputs": [],
   "source": [
    "# Import required libraries\n",
    "import torch\n",
    "import torch.nn as nn\n",
    "import torch.optim as optim\n",
    "import numpy as np\n",
    "import matplotlib.pyplot as plt\n",
    "from data_utils import generate_sine_wave\n",
    "from transformer_model import TimeSeriesTransformer"
   ]
  },
  {
   "cell_type": "code",
   "execution_count": null,
   "id": "eee4c12b",
   "metadata": {},
   "outputs": [],
   "source": [
    "# Hyperparameters\n",
    "SEQ_LENGTH = 20\n",
    "NUM_SAMPLES = 1000\n",
    "BATCH_SIZE = 32\n",
    "EPOCHS = 20\n",
    "LR = 0.001\n",
    "\n",
    "# Generate data\n",
    "X, y = generate_sine_wave(SEQ_LENGTH, NUM_SAMPLES)\n",
    "X_train, y_train = X[:800], y[:800]\n",
    "X_test, y_test = X[800:], y[800:]"
   ]
  },
  {
   "cell_type": "code",
   "execution_count": null,
   "id": "996cb7b5",
   "metadata": {},
   "outputs": [],
   "source": [
    "# Convert to tensors\n",
    "device = torch.device('cuda' if torch.cuda.is_available() else 'cpu')\n",
    "X_train = torch.tensor(X_train, dtype=torch.float32).to(device)\n",
    "y_train = torch.tensor(y_train, dtype=torch.float32).to(device)\n",
    "X_test = torch.tensor(X_test, dtype=torch.float32).to(device)\n",
    "y_test = torch.tensor(y_test, dtype=torch.float32).to(device)"
   ]
  },
  {
   "cell_type": "code",
   "execution_count": null,
   "id": "4454b347",
   "metadata": {},
   "outputs": [],
   "source": [
    "# Model, optimizer, and loss function\n",
    "model = TimeSeriesTransformer(input_size=1).to(device)\n",
    "optimizer = torch.optim.Adam(model.parameters(), lr=LR)\n",
    "criterion = nn.MSELoss()"
   ]
  },
  {
   "cell_type": "code",
   "execution_count": null,
   "id": "6ea2e6b3",
   "metadata": {},
   "outputs": [],
   "source": [
    "# Training loop\n",
    "for epoch in range(EPOCHS):\n",
    "    model.train()\n",
    "    permutation = torch.randperm(X_train.size(0))\n",
    "    epoch_loss = 0\n",
    "    for i in range(0, X_train.size(0), BATCH_SIZE):\n",
    "        indices = permutation[i:i+BATCH_SIZE]\n",
    "        batch_x, batch_y = X_train[indices], y_train[indices]\n",
    "        optimizer.zero_grad()\n",
    "        output = model(batch_x)\n",
    "        loss = criterion(output, batch_y)\n",
    "        loss.backward()\n",
    "        optimizer.step()\n",
    "        epoch_loss += loss.item()\n",
    "    print(f\"Epoch {epoch+1}/{EPOCHS}, Loss: {epoch_loss/(X_train.size(0)//BATCH_SIZE):.4f}\")"
   ]
  },
  {
   "cell_type": "code",
   "execution_count": null,
   "id": "b2010d11",
   "metadata": {},
   "outputs": [],
   "source": [
    "# Evaluation and prediction\n",
    "model.eval()\n",
    "with torch.no_grad():\n",
    "    preds = model(X_test)\n",
    "    test_loss = criterion(preds, y_test).item()\n",
    "    print(f\"Test Loss: {test_loss:.4f}\")"
   ]
  },
  {
   "cell_type": "code",
   "execution_count": null,
   "id": "b96341ec",
   "metadata": {},
   "outputs": [],
   "source": [
    "# Plot predictions\n",
    "plt.figure(figsize=(10,4))\n",
    "plt.plot(y_test.cpu().numpy(), label='True')\n",
    "plt.plot(preds.cpu().numpy(), label='Predicted')\n",
    "plt.legend()\n",
    "plt.title('Time Series Forecasting with Transformer')\n",
    "plt.show()"
   ]
  }
 ],
 "metadata": {
  "language_info": {
   "name": "python"
  }
 },
 "nbformat": 4,
 "nbformat_minor": 5
}
