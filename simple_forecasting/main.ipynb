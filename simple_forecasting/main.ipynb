{
 "cells": [
  {
   "cell_type": "markdown",
   "id": "0049c2f2",
   "metadata": {},
   "source": [
    "# Time Series Forecasting with Transformer in PyTorch\n",
    "This notebook demonstrates how to use a simple Transformer architecture for time series forecasting using PyTorch."
   ]
  },
  {
   "cell_type": "code",
   "execution_count": null,
   "id": "a50adba8",
   "metadata": {},
   "outputs": [],
   "source": [
    "# Import required libraries\n",
    "import torch\n",
    "import torch.nn as nn\n",
    "import torch.optim as optim\n",
    "import numpy as np\n",
    "import matplotlib.pyplot as plt\n",
    "from torch.utils.data import TensorDataset, DataLoader\n",
    "from data_utils import generate_sine_wave\n",
    "from transformer_model import TimeSeriesTransformer"
   ]
  },
  {
   "cell_type": "code",
   "execution_count": null,
   "id": "eee4c12b",
   "metadata": {},
   "outputs": [],
   "source": [
    "# Hyperparameters\n",
    "SEQ_LENGTH = 20\n",
    "NUM_SAMPLES = 1000\n",
    "BATCH_SIZE = 32\n",
    "EPOCHS = 20\n",
    "LR = 0.001"
   ]
  },
  {
   "cell_type": "code",
   "execution_count": null,
   "id": "2117a9d7",
   "metadata": {},
   "outputs": [],
   "source": [
    "# Generate data\n",
    "X, y = generate_sine_wave(SEQ_LENGTH, NUM_SAMPLES)\n",
    "X_train, y_train = X[:800], y[:800]\n",
    "X_test, y_test = X[800:], y[800:]"
   ]
  },
  {
   "cell_type": "code",
   "execution_count": null,
   "id": "996cb7b5",
   "metadata": {},
   "outputs": [],
   "source": [
    "# Convert to tensors and create DataLoader\n",
    "device = torch.device('cuda' if torch.cuda.is_available() else 'cpu')\n",
    "X_train_tensor = torch.tensor(X_train, dtype=torch.float32)\n",
    "y_train_tensor = torch.tensor(y_train, dtype=torch.float32)\n",
    "X_test_tensor = torch.tensor(X_test, dtype=torch.float32)\n",
    "y_test_tensor = torch.tensor(y_test, dtype=torch.float32)\n",
    "\n",
    "train_dataset = TensorDataset(X_train_tensor, y_train_tensor)\n",
    "test_dataset = TensorDataset(X_test_tensor, y_test_tensor)\n",
    "\n",
    "train_loader = DataLoader(train_dataset, batch_size=BATCH_SIZE, shuffle=True)\n",
    "test_loader = DataLoader(test_dataset, batch_size=BATCH_SIZE)"
   ]
  },
  {
   "cell_type": "code",
   "execution_count": null,
   "id": "4454b347",
   "metadata": {},
   "outputs": [],
   "source": [
    "# Model, optimizer, and loss function\n",
    "model = TimeSeriesTransformer(input_size=1).to(device)\n",
    "optimizer = torch.optim.Adam(model.parameters(), lr=LR)\n",
    "criterion = nn.MSELoss()"
   ]
  },
  {
   "cell_type": "code",
   "execution_count": null,
   "id": "6ea2e6b3",
   "metadata": {},
   "outputs": [],
   "source": [
    "# Training loop using DataLoader\n",
    "for epoch in range(EPOCHS):\n",
    "    model.train()\n",
    "    epoch_loss = 0\n",
    "    for batch_x, batch_y in train_loader:\n",
    "        batch_x = batch_x.to(device)\n",
    "        batch_y = batch_y.to(device)\n",
    "        optimizer.zero_grad()\n",
    "        output = model(batch_x)\n",
    "        loss = criterion(output, batch_y)\n",
    "        loss.backward()\n",
    "        optimizer.step()\n",
    "        epoch_loss += loss.item() * batch_x.size(0)\n",
    "    avg_loss = epoch_loss / len(train_loader.dataset)\n",
    "    print(f\"Epoch {epoch+1}/{EPOCHS}, Loss: {avg_loss:.4f}\")"
   ]
  },
  {
   "cell_type": "code",
   "execution_count": null,
   "id": "b2010d11",
   "metadata": {},
   "outputs": [],
   "source": [
    "# Evaluation and prediction using DataLoader\n",
    "model.eval()\n",
    "preds = []\n",
    "true_vals = []\n",
    "with torch.no_grad():\n",
    "    for batch_x, batch_y in test_loader:\n",
    "        batch_x = batch_x.to(device)\n",
    "        batch_y = batch_y.to(device)\n",
    "        output = model(batch_x)\n",
    "        preds.append(output.cpu().numpy())\n",
    "        true_vals.append(batch_y.cpu().numpy())\n",
    "preds = np.concatenate(preds)\n",
    "true_vals = np.concatenate(true_vals)\n",
    "test_loss = criterion(torch.tensor(preds), torch.tensor(true_vals)).item()\n",
    "print(f\"Test Loss: {test_loss:.4f}\")"
   ]
  },
  {
   "cell_type": "code",
   "execution_count": null,
   "id": "b96341ec",
   "metadata": {},
   "outputs": [],
   "source": [
    "# Plot predictions\n",
    "plt.figure(figsize=(10,4))\n",
    "plt.plot(true_vals, label='True')\n",
    "plt.plot(preds, label='Predicted')\n",
    "plt.legend()\n",
    "plt.title('Time Series Forecasting with Transformer')\n",
    "plt.show()"
   ]
  }
 ],
 "metadata": {
  "language_info": {
   "name": "python"
  }
 },
 "nbformat": 4,
 "nbformat_minor": 5
}
